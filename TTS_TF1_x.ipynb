{
  "nbformat": 4,
  "nbformat_minor": 0,
  "metadata": {
    "colab": {
      "name": "TTS TF1.x",
      "provenance": []
    },
    "kernelspec": {
      "name": "python3",
      "display_name": "Python 3"
    },
    "language_info": {
      "name": "python"
    },
    "accelerator": "GPU",
    "gpuClass": "standard"
  },
  "cells": [
    {
      "cell_type": "code",
      "execution_count": null,
      "metadata": {
        "colab": {
          "base_uri": "https://localhost:8080/"
        },
        "id": "hA7CVMumDeZB",
        "outputId": "6bade3ef-7d1d-43f4-cfdb-361aa1df5093"
      },
      "outputs": [
        {
          "output_type": "stream",
          "name": "stdout",
          "text": [
            "TensorFlow 1.x selected.\n"
          ]
        }
      ],
      "source": [
        "%tensorflow_version 1.x"
      ]
    },
    {
      "cell_type": "markdown",
      "source": [
        "# Since the repo specified to use 1.x version of tensorflow\n",
        "you can ask for GPU accelaration in the kernel settings"
      ],
      "metadata": {
        "id": "x0xn5QNIians"
      }
    },
    {
      "cell_type": "code",
      "source": [
        "import tensorflow\n",
        "print(tensorflow.__version__)"
      ],
      "metadata": {
        "colab": {
          "base_uri": "https://localhost:8080/"
        },
        "id": "X8IKj-yEDhuB",
        "outputId": "100155de-0ffc-47fd-e369-34cd50094268"
      },
      "execution_count": null,
      "outputs": [
        {
          "output_type": "stream",
          "name": "stdout",
          "text": [
            "1.15.2\n"
          ]
        }
      ]
    },
    {
      "cell_type": "markdown",
      "source": [
        "# Cloning the repo"
      ],
      "metadata": {
        "id": "_BCU2-N5iklE"
      }
    },
    {
      "cell_type": "code",
      "source": [
        "!git clone https://github.com/JasonWei512/Tacotron-2-Chinese.git"
      ],
      "metadata": {
        "id": "sXepJx5JDkxP"
      },
      "execution_count": null,
      "outputs": []
    },
    {
      "cell_type": "markdown",
      "source": [
        "# Install additional dependencies\n",
        "\n"
      ],
      "metadata": {
        "id": "C116BqOsiotb"
      }
    },
    {
      "cell_type": "code",
      "source": [
        "!apt-get install -y libasound-dev portaudio19-dev libportaudio2 libportaudiocpp0 ffmpeg libav-tools"
      ],
      "metadata": {
        "id": "MfQ8M-asEJmR"
      },
      "execution_count": null,
      "outputs": []
    },
    {
      "cell_type": "markdown",
      "source": [
        "# Package libav-tools can sometimes fail installtion using apt install\n",
        "we can explicitly download it.\n",
        "\n",
        "the repo author suggested using pip install requirement.txt to install the full dependencies. However, some packages are too damn old and lost the .wheel for installation. You need to do it manually."
      ],
      "metadata": {
        "id": "UPUXclGQi184"
      }
    },
    {
      "cell_type": "code",
      "source": [
        "!wget http://launchpadlibrarian.net/339874908/libav-tools_3.3.4-2_all.deb\n",
        "!dpkg -i libav-tools_3.3.4-2_all.deb"
      ],
      "metadata": {
        "id": "xi44Td3FEOBa"
      },
      "execution_count": null,
      "outputs": []
    },
    {
      "cell_type": "markdown",
      "source": [
        "# CD to the directory"
      ],
      "metadata": {
        "id": "PEL74-rHjFrw"
      }
    },
    {
      "cell_type": "code",
      "source": [
        "%cd Tacotron-2-Chinese"
      ],
      "metadata": {
        "id": "sBk9mJUfEU88",
        "colab": {
          "base_uri": "https://localhost:8080/"
        },
        "outputId": "74c5594d-4a2c-4e54-f306-92c784451019"
      },
      "execution_count": null,
      "outputs": [
        {
          "output_type": "stream",
          "name": "stdout",
          "text": [
            "/content/Tacotron-2-Chinese\n"
          ]
        }
      ]
    },
    {
      "cell_type": "markdown",
      "source": [
        "# Make a new directory for the dataset \n",
        "you can skip this if you are not training the model yourself,\n",
        "\n",
        "you can just use the pretrained model"
      ],
      "metadata": {
        "id": "-5TspBIZjKPM"
      }
    },
    {
      "cell_type": "code",
      "source": [
        "%mkdir BZNSYP\n",
        "%cd BZNSYP\n",
        "!wget https://weixinxcxdb.oss-cn-beijing.aliyuncs.com/gwYinPinKu/BZNSYP.rar\n",
        "!unrar x BZNSYP.rar"
      ],
      "metadata": {
        "id": "9bu0_gkvShFQ"
      },
      "execution_count": null,
      "outputs": []
    },
    {
      "cell_type": "markdown",
      "source": [
        "# Install ffmpeg to downscale the dataset from 48khz to 36khz"
      ],
      "metadata": {
        "id": "xPQNrqsgjos9"
      }
    },
    {
      "cell_type": "code",
      "source": [
        "!sudo apt-get install ffmpeg"
      ],
      "metadata": {
        "id": "vdgA5QGuHVVB"
      },
      "execution_count": null,
      "outputs": []
    },
    {
      "cell_type": "markdown",
      "source": [
        "# CD to .wav directory and run the little script to convert them"
      ],
      "metadata": {
        "id": "3jqCHPgQjxz1"
      }
    },
    {
      "cell_type": "code",
      "source": [
        "%cd Wave\n"
      ],
      "metadata": {
        "colab": {
          "base_uri": "https://localhost:8080/"
        },
        "id": "fgw6PnOAK1io",
        "outputId": "2293d83a-8efc-49df-f854-68e8744d8e56"
      },
      "execution_count": 2,
      "outputs": [
        {
          "output_type": "stream",
          "name": "stdout",
          "text": [
            "[Errno 2] No such file or directory: 'Wave'\n",
            "/content\n"
          ]
        }
      ]
    },
    {
      "cell_type": "code",
      "source": [
        "from builtins import isinstance\n",
        "import glob, os\n",
        "file_list = []\n",
        "for file in glob.glob(\"*.wav\"):\n",
        "    # os.system(f'ffmpeg -i {file} -ar 36000 reduced_{file}')\n",
        "    file_list.append(file)\n",
        "file_list.sort()\n",
        "print(f'Total sanple size: {len(file_list)}')\n"
      ],
      "metadata": {
        "colab": {
          "base_uri": "https://localhost:8080/"
        },
        "id": "2xzkQGL_IAD1",
        "outputId": "30ae4a2e-1f00-4056-92f0-a1378724b52e"
      },
      "execution_count": null,
      "outputs": [
        {
          "output_type": "stream",
          "name": "stdout",
          "text": [
            "Total sanple size: 10000\n"
          ]
        }
      ]
    },
    {
      "cell_type": "code",
      "source": [
        "sample_size = 10000\n",
        "sampled_list= file_list[:sample_size]\n",
        "print(f'Total selected sanple size: {len(sampled_list)}')"
      ],
      "metadata": {
        "colab": {
          "base_uri": "https://localhost:8080/"
        },
        "id": "RgALdvebI-NR",
        "outputId": "c5978ce0-97db-4042-bce0-1b719fbec912"
      },
      "execution_count": null,
      "outputs": [
        {
          "output_type": "stream",
          "name": "stdout",
          "text": [
            "Total selected sanple size: 10000\n"
          ]
        }
      ]
    },
    {
      "cell_type": "code",
      "source": [
        "for file in sampled_list:\n",
        "  print(f'Converting {file}...',end='')\n",
        "  os.system(f'ffmpeg -i {file} -ar 36000 {file}')\n",
        "  print('Done!',flush=True)"
      ],
      "metadata": {
        "id": "eGg6j1qLKyLC"
      },
      "execution_count": null,
      "outputs": []
    },
    {
      "cell_type": "code",
      "source": [
        "%cd ../.."
      ],
      "metadata": {
        "id": "VYY3QIvhkPm6"
      },
      "execution_count": null,
      "outputs": []
    },
    {
      "cell_type": "markdown",
      "source": [
        "# Download the pretrained model"
      ],
      "metadata": {
        "id": "oEegGjG0kLKh"
      }
    },
    {
      "cell_type": "code",
      "source": [
        "\n",
        "!wget https://github.com/JasonWei512/Tacotron-2-Chinese/releases/download/Biaobei_Tacotron-100K/logs-Tacotron-2.zip"
      ],
      "metadata": {
        "id": "avbFqXrKM-wt"
      },
      "execution_count": null,
      "outputs": []
    },
    {
      "cell_type": "code",
      "source": [
        "!unzip logs-Tacotron-2.zip"
      ],
      "metadata": {
        "id": "DKSNaezNWFyr"
      },
      "execution_count": null,
      "outputs": []
    },
    {
      "cell_type": "markdown",
      "source": [
        "# Run preprocess to convert the dataset to numpy expression for learning"
      ],
      "metadata": {
        "id": "R5hzflQvkVWI"
      }
    },
    {
      "cell_type": "code",
      "source": [
        "!python preprocess.py --dataset='Biaobei'"
      ],
      "metadata": {
        "id": "tOtIATTCWucd"
      },
      "execution_count": null,
      "outputs": []
    },
    {
      "cell_type": "markdown",
      "source": [
        "# Training"
      ],
      "metadata": {
        "id": "uSBKJaUskUVG"
      }
    },
    {
      "cell_type": "code",
      "source": [
        "!python train.py --model='Tacotron-2'"
      ],
      "metadata": {
        "id": "03-0wXTzXGeP"
      },
      "execution_count": null,
      "outputs": []
    },
    {
      "cell_type": "markdown",
      "source": [
        "# The following parts are for synthesizing audio \n",
        "you may need to install missing package if you haven't done it before"
      ],
      "metadata": {
        "id": "FZSYqIS3kezY"
      }
    },
    {
      "cell_type": "code",
      "source": [
        "!apt install libasound2-dev portaudio19-dev libportaudio2 libportaudiocpp0 ffmpeg"
      ],
      "metadata": {
        "id": "XNyvRmkvZO_b"
      },
      "execution_count": null,
      "outputs": []
    },
    {
      "cell_type": "markdown",
      "source": [
        "# latest version of numpy has conflict with the repo\n",
        "we need a older version,\n",
        "\n",
        "as long as it doesn't have conflict with tensorflow, it should be fine"
      ],
      "metadata": {
        "id": "ASNvlYFHkzkn"
      }
    },
    {
      "cell_type": "code",
      "source": [
        "!pip install numpy==1.16"
      ],
      "metadata": {
        "id": "Q46rZPgy4mtb"
      },
      "execution_count": null,
      "outputs": []
    },
    {
      "cell_type": "markdown",
      "source": [
        "# Again missing package from failing to do the pip install requirement.txt"
      ],
      "metadata": {
        "id": "rUOxhm62kyjl"
      }
    },
    {
      "cell_type": "code",
      "source": [
        "!pip install pyaudio sounddevice unidecode"
      ],
      "metadata": {
        "id": "1xczFZum5Ax4"
      },
      "execution_count": null,
      "outputs": []
    },
    {
      "cell_type": "markdown",
      "source": [
        "# ask the model to synthesize according to the sentence.txt file"
      ],
      "metadata": {
        "id": "HBf6WPcyl1lh"
      }
    },
    {
      "cell_type": "code",
      "source": [
        "!python synthesize.py --model='Tacotron-2' --text_list='sentences.txt'"
      ],
      "metadata": {
        "id": "004Wpb0X7gnz"
      },
      "execution_count": null,
      "outputs": []
    },
    {
      "cell_type": "markdown",
      "source": [
        "# you may ignore the following parts, just some cells for utils"
      ],
      "metadata": {
        "id": "clWMKY33mD_K"
      }
    },
    {
      "cell_type": "code",
      "source": [
        "%cd .."
      ],
      "metadata": {
        "colab": {
          "base_uri": "https://localhost:8080/"
        },
        "id": "pUDzy8oDWyx3",
        "outputId": "6985953e-9cd5-4632-c0f4-f2941df638b2"
      },
      "execution_count": null,
      "outputs": [
        {
          "output_type": "stream",
          "name": "stdout",
          "text": [
            "/content/Tacotron-2-Chinese\n"
          ]
        }
      ]
    },
    {
      "cell_type": "code",
      "source": [
        "!pip install hparams"
      ],
      "metadata": {
        "colab": {
          "base_uri": "https://localhost:8080/"
        },
        "id": "QkY2fKYHXI82",
        "outputId": "54b21c75-62f8-4990-de96-adb9449c8f38"
      },
      "execution_count": null,
      "outputs": [
        {
          "output_type": "stream",
          "name": "stdout",
          "text": [
            "Looking in indexes: https://pypi.org/simple, https://us-python.pkg.dev/colab-wheels/public/simple/\n",
            "Requirement already satisfied: hparams in /usr/local/lib/python3.7/dist-packages (0.3.0)\n",
            "Requirement already satisfied: typeguard in /usr/local/lib/python3.7/dist-packages (from hparams) (2.7.1)\n"
          ]
        }
      ]
    },
    {
      "cell_type": "code",
      "source": [
        "%cd logs-Tacotron-2/"
      ],
      "metadata": {
        "colab": {
          "base_uri": "https://localhost:8080/"
        },
        "id": "fGTLnVuadIRr",
        "outputId": "a75c6162-993c-4974-9a34-b6601ca768c2"
      },
      "execution_count": null,
      "outputs": [
        {
          "output_type": "stream",
          "name": "stdout",
          "text": [
            "/content/Tacotron-2-Chinese/logs-Tacotron-2\n"
          ]
        }
      ]
    },
    {
      "cell_type": "code",
      "source": [
        "%mkdir wave_pretrained"
      ],
      "metadata": {
        "id": "T9SYeR8jeCDq"
      },
      "execution_count": null,
      "outputs": []
    },
    {
      "cell_type": "code",
      "source": [
        "%cd wave_pretrained"
      ],
      "metadata": {
        "colab": {
          "base_uri": "https://localhost:8080/"
        },
        "id": "8dEmMSR-eErq",
        "outputId": "11a62677-c5d3-469f-ac6a-214d8575f035"
      },
      "execution_count": null,
      "outputs": [
        {
          "output_type": "stream",
          "name": "stdout",
          "text": [
            "/content/Tacotron-2-Chinese/logs-Tacotron-2/wave_pretrained\n"
          ]
        }
      ]
    },
    {
      "cell_type": "code",
      "source": [
        "!wget https://github.com/JasonWei512/wavenet_vocoder/releases/download/Biaobei_WaveNet-200116/checkpoint_biaobei-36Khz.zip"
      ],
      "metadata": {
        "id": "FCmG6L2weF4Y"
      },
      "execution_count": null,
      "outputs": []
    },
    {
      "cell_type": "code",
      "source": [
        "!unzip checkpoint_biaobei-36Khz.zip"
      ],
      "metadata": {
        "colab": {
          "base_uri": "https://localhost:8080/"
        },
        "id": "czZhpZ_aeNMY",
        "outputId": "8ad6a38f-18b7-4f6f-a451-7b90c2167396"
      },
      "execution_count": null,
      "outputs": [
        {
          "output_type": "stream",
          "name": "stdout",
          "text": [
            "Archive:  checkpoint_biaobei-36Khz.zip\n",
            "  inflating: checkpoint_biaobei-36Khz.pth  \n"
          ]
        }
      ]
    },
    {
      "cell_type": "code",
      "source": [
        "!rm -r -f tacotron_output/"
      ],
      "metadata": {
        "id": "1SZfkWv_eO7g"
      },
      "execution_count": 28,
      "outputs": []
    },
    {
      "cell_type": "code",
      "source": [
        "!pip list"
      ],
      "metadata": {
        "id": "jJzEdo89SO5w"
      },
      "execution_count": null,
      "outputs": []
    }
  ]
}